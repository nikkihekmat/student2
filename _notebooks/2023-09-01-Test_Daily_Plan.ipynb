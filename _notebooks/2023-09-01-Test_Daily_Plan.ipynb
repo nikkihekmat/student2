{
 "cells": [
  {
   "cell_type": "markdown",
   "metadata": {},
   "source": [
    "---\n",
    "toc: true\n",
    "comments: false\n",
    "layout: post\n",
    "title: Daily Plan \n",
    "description: August 16th-18th\n",
    "type: plans\n",
    "courses: { compsci: {week: 0} }\n",
    "---\n",
    "\n",
    "\n"
   ]
  }
 ],
 "metadata": {
  "language_info": {
   "name": "python"
  },
  "orig_nbformat": 4
 },
 "nbformat": 4,
 "nbformat_minor": 2
}
