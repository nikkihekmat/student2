{
 "cells": [
  {
   "cell_type": "markdown",
   "metadata": {},
   "source": [
    "---\n",
    "comments: true\n",
    "layout: post\n",
    "title: Pair Showcase Project\n",
    "description: Project to showcase in live review with partner.\n",
    "type: hacks\n",
    "courses: { csse: {week: 4}, csp: {week: 4}, csa: {week: 4} }\n",
    "categories: [C4.1]\n",
    "---"
   ]
  },
  {
   "cell_type": "markdown",
   "metadata": {},
   "source": [
    "# Introduction\n",
    "\n",
    "This page is a converted jupyter notebook of my and my partner's pair showcase project, which while being the fruit of a collaborative effort, is differing in soem ways for each of us."
   ]
  },
  {
   "cell_type": "markdown",
   "metadata": {},
   "source": [
    "### Markdown Table\n",
    "\n",
    "| Author | Book | Year | Color | Price |\n",
    "|------|-------|------|-------|-------|\n",
    "|Ford|Mustang|2022|Red|$35,000|\n",
    "|Toyota|Camry|2022|Silver|$25,00|\n",
    "|Tesla|Model S|2022|White|$80,000|\n",
    "|Cadillac|Broughan|1969|Black|$10,000|\n",
    "|Ford|F-350|1997|Green|$15,000|\n",
    "|Ford|Excursion|2003|Green|$25,000|\n",
    "|Ford|Ranger|2012|Red|$8,000|\n",
    "|Kuboto|L3301 Tractor|2015|Orange|$12,000|\n",
    "|Ford|Fusion Energi|2015|Green|$15,000|\n",
    "|Acura|XL|2006|Grey|$10,000|\n",
    "|Ford|F150 Lightning|2023|Grey|$70,000|"
   ]
  }
 ],
 "metadata": {
  "language_info": {
   "name": "python"
  },
  "orig_nbformat": 4
 },
 "nbformat": 4,
 "nbformat_minor": 2
}
