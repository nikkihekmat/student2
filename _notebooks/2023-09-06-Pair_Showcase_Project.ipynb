{
 "cells": [
  {
   "cell_type": "markdown",
   "metadata": {},
   "source": [
    "---\n",
    "comments: true\n",
    "layout: post\n",
    "title: Pair Showcase Project\n",
    "description: Project to showcase in live review with partner.\n",
    "type: hacks\n",
    "courses: { compsci: {week: 4} }\n",
    "---"
   ]
  },
  {
   "cell_type": "markdown",
   "metadata": {},
   "source": [
    "# Introduction\n",
    "\n",
    "This page is a converted jupyter notebook of my and my partner's pair showcase project, which while being the fruit of a collaborative effort, is differing in some ways for each of us."
   ]
  },
  {
   "cell_type": "markdown",
   "metadata": {},
   "source": [
    "### Rating the Books I've Read So Far in 2023\n",
    "\n",
    "| Author | Book | Month Read | Stars |\n",
    "|------|-------|------|-------|\n",
    "|Hafsah Faizal|We Hunt the Stars|January|4.5/5|\n",
    "|Stephen King|Fairytale|April|4/5|\n",
    "|Alex Aster|Lightlark|April|3.5/5|\n",
    "|Colleen Hoover|It Starts With Us|April|3.5/5|\n",
    "|Jennifer Lynn Barnes|The Inheritance Games|April|3/5|\n",
    "|Jennifer Lynn Barnes|The Hawthorne Legacy|April|3/5|\n",
    "|Jennifer Lynn Barnes|The Final Gambit|May|2.5/5|\n",
    "|Ana Huang|Twisted Games|June|4/5|\n",
    "|Colleen Hoover|Ugly Love|June|5/5|\n",
    "|Ali Hazelwood|Love, Theoretically|July|5/5|\n",
    "|Tahereh Mafi|Shatter Me|July|3.5/5|\n",
    "|Tahereh Mafi|Unravel Me|July|3.5/5|\n",
    "|Tahereh Mafi|Ignite Me|July|4/5|\n",
    "|Tahereh Mafi|Restore Me|August|3/5|\n",
    "|Tahereh Mafi|Defy Me|September|3.5/5|"
   ]
  },
  {
   "cell_type": "markdown",
   "metadata": {},
   "source": [
    "## Basic Web Scraping "
   ]
  },
  {
   "cell_type": "code",
   "execution_count": 1,
   "metadata": {},
   "outputs": [
    {
     "name": "stdout",
     "output_type": "stream",
     "text": [
      "A book is a medium for recording information in the form of writing or images, typically composed of many pages (made of papyrus, parchment, vellum, or paper) bound together and protected by a cover.[1] It can also be a  handwritten or printed work of fiction or nonfiction, usually on sheets of paper fastened or bound together within covers. The technical term for this physical arrangement is codex (plural, codices). In the history of hand-held physical supports for extended written compositions or records, the codex replaces its predecessor, the scroll. A single sheet in a codex is a leaf and each side of a leaf is a page.\n",
      "\n"
     ]
    }
   ],
   "source": [
    "import requests \n",
    "from lxml import html\n",
    "\n",
    "r = requests.get (\"https://en.wikipedia.org/wiki/Book\")\n",
    "#print (r.text)\n",
    "\n",
    "p1_xpath = \"\"\"//*[@id=\"mw-content-text\"]/div[1]/p[3]\"\"\"\n",
    "\n",
    "if r.status_code == 200:\n",
    "    tree = html.fromstring(r.text)\n",
    "    p1x = tree.xpath(p1_xpath)\n",
    "    for p1 in p1x:\n",
    "        print(p1.text_content())\n",
    "else: \n",
    "    print(\"Error retrieving web page.\")\n",
    "    \n",
    "    \n",
    "    \n",
    "    \n",
    "\n"
   ]
  },
  {
   "cell_type": "markdown",
   "metadata": {},
   "source": [
    "## Shell script that returns a random number"
   ]
  },
  {
   "cell_type": "code",
   "execution_count": 36,
   "metadata": {},
   "outputs": [
    {
     "name": "stdout",
     "output_type": "stream",
     "text": [
      "          -85                                                            \n",
      "\n"
     ]
    },
    {
     "data": {
      "text/plain": [
       "0"
      ]
     },
     "execution_count": 36,
     "metadata": {},
     "output_type": "execute_result"
    }
   ],
   "source": [
    "import os\n",
    "\n",
    "os.system(\"\"\"\n",
    "          \n",
    "#!bin/bash\n",
    "od -An -td1 -N1 /dev/urandom\n",
    "           \n",
    "          \"\"\")\n"
   ]
  }
 ],
 "metadata": {
  "kernelspec": {
   "display_name": "Python 3",
   "language": "python",
   "name": "python3"
  },
  "language_info": {
   "codemirror_mode": {
    "name": "ipython",
    "version": 3
   },
   "file_extension": ".py",
   "mimetype": "text/x-python",
   "name": "python",
   "nbconvert_exporter": "python",
   "pygments_lexer": "ipython3",
   "version": "3.11.4"
  },
  "orig_nbformat": 4
 },
 "nbformat": 4,
 "nbformat_minor": 2
}
