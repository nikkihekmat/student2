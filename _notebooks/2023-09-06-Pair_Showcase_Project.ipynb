{
 "cells": [
  {
   "cell_type": "markdown",
   "metadata": {},
   "source": [
    "---\n",
    "comments: true\n",
    "layout: post\n",
    "title: Pair Showcase Project\n",
    "description: Project to showcase in live review with partner.\n",
    "type: hacks\n",
    "courses: { csse: {week: 4}, csp: {week: 4}, csa: {week: 4} }\n",
    "categories: [C4.1]\n",
    "---"
   ]
  },
  {
   "cell_type": "markdown",
   "metadata": {},
   "source": [
    "# Introduction\n",
    "\n",
    "This page is a converted jupyter notebook of my and my partner's pair showcase project, which while being the fruit of a collaborative effort, is differing in soem ways for each of us."
   ]
  },
  {
   "cell_type": "markdown",
   "metadata": {},
   "source": [
    "### Markdown Table\n",
    "\n",
    "| Author | Book | Year | Color | Price |\n",
    "|------|-------|------|-------|-------|\n",
    "|Ford|Mustang|2022|Red|$35,000|\n",
    "|Toyota|Camry|2022|Silver|$25,00|\n",
    "|Tesla|Model S|2022|White|$80,000|\n",
    "|Cadillac|Broughan|1969|Black|$10,000|\n",
    "|Ford|F-350|1997|Green|$15,000|\n",
    "|Ford|Excursion|2003|Green|$25,000|\n",
    "|Ford|Ranger|2012|Red|$8,000|\n",
    "|Kuboto|L3301 Tractor|2015|Orange|$12,000|\n",
    "|Ford|Fusion Energi|2015|Green|$15,000|\n",
    "|Acura|XL|2006|Grey|$10,000|\n",
    "|Ford|F150 Lightning|2023|Grey|$70,000|"
   ]
  },
  {
   "cell_type": "markdown",
   "metadata": {},
   "source": [
    "## Basic Web Scrapin"
   ]
  },
  {
   "cell_type": "code",
   "execution_count": 1,
   "metadata": {},
   "outputs": [
    {
     "name": "stdout",
     "output_type": "stream",
     "text": [
      "A book is a medium for recording information in the form of writing or images, typically composed of many pages (made of papyrus, parchment, vellum, or paper) bound together and protected by a cover.[1] It can also be a  handwritten or printed work of fiction or nonfiction, usually on sheets of paper fastened or bound together within covers. The technical term for this physical arrangement is codex (plural, codices). In the history of hand-held physical supports for extended written compositions or records, the codex replaces its predecessor, the scroll. A single sheet in a codex is a leaf and each side of a leaf is a page.\n",
      "\n"
     ]
    }
   ],
   "source": [
    "import requests \n",
    "from lxml import html\n",
    "\n",
    "r = requests.get (\"https://en.wikipedia.org/wiki/Book\")\n",
    "#print (r.text)\n",
    "\n",
    "p1_xpath = \"\"\"//*[@id=\"mw-content-text\"]/div[1]/p[3]\"\"\"\n",
    "\n",
    "if r.status_code == 200:\n",
    "    tree = html.fromstring(r.text)\n",
    "    p1x = tree.xpath(p1_xpath)\n",
    "    for p1 in p1x:\n",
    "        print(p1.text_content())\n",
    "else: \n",
    "    print(\"Error retrieving web page.\")\n",
    "    \n",
    "    \n",
    "    \n",
    "    \n",
    "\n"
   ]
  }
 ],
 "metadata": {
  "kernelspec": {
   "display_name": "Python 3",
   "language": "python",
   "name": "python3"
  },
  "language_info": {
   "codemirror_mode": {
    "name": "ipython",
    "version": 3
   },
   "file_extension": ".py",
   "mimetype": "text/x-python",
   "name": "python",
   "nbconvert_exporter": "python",
   "pygments_lexer": "ipython3",
   "version": "3.11.4"
  },
  "orig_nbformat": 4
 },
 "nbformat": 4,
 "nbformat_minor": 2
}
