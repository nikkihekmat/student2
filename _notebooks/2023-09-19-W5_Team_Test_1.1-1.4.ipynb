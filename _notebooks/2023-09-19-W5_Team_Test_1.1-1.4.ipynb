{
 "cells": [
  {
   "cell_type": "markdown",
   "metadata": {},
   "source": [
    "---\n",
    "comments: true\n",
    "layout: post\n",
    "title: Team Test 1.1-1.4\n",
    "description: Our team test project for live review.\n",
    "type: tangibles\n",
    "courses: { compsci: {week: 5} }\n",
    "---"
   ]
  },
  {
   "cell_type": "markdown",
   "metadata": {},
   "source": [
    "# Introduction\n",
    "\n",
    "Our Team Test video will include a collaboration review, the explanation of the function and purpose of a a program (quiz) that we created, the explanation of the design and development of a program we've expanded upon, and lastly the identification of coding errors to showcase code logic.  "
   ]
  },
  {
   "cell_type": "markdown",
   "metadata": {},
   "source": [
    "# Collaboration Review\n",
    "\n",
    "- What are the benefits of a team? Explain some of the diveristies that your team has to offer.\n",
    "  \n",
    "    A team can complete larger projects at a faster rate because members can be assigned different tasks\n",
    "\n",
    "- Describe how you will facilitate communication amongst group members.\n",
    "\n",
    "- How will you hold each person accountable for their portion of the work? Think about dates, review tickets, and peer revies.\n",
    "  "
   ]
  },
  {
   "cell_type": "markdown",
   "metadata": {},
   "source": [
    "# Program and Function: Quiz Game\n",
    "\n",
    "The purpose of the quiz is to test someone's knowledge about python terminology."
   ]
  },
  {
   "cell_type": "code",
   "execution_count": 1,
   "metadata": {},
   "outputs": [
    {
     "name": "stdout",
     "output_type": "stream",
     "text": [
      "Hello, nikkihekmat running /opt/homebrew/opt/python@3.11/bin/python3.11\n",
      "You will be asked 7 questions.\n",
      "Are you ready to take a test?\n",
      "Question: What command is used to include other functions that were previously developed?\n",
      " is incorrect\n",
      "Question: What command is used to evaluate correct or incorrect response in this example?\n",
      "You failed is incorrect\n",
      "Question: Each 'if' command contains an '_________' to determine a true or false condition?\n",
      "if is incorrect\n",
      "Question: What key word in python defines a function?\n",
      "cocaine is incorrect\n",
      "Question: What key word turns a variable into a string?\n",
      "\" is incorrect\n",
      "Question: what command stores what the user types?\n",
      "hi is incorrect\n",
      "Question: what command is followed b 'if'?\n",
      "hi is incorrect\n",
      "nikkihekmat You failed\n",
      " you scored 0/7\n",
      "or 0.0%\n"
     ]
    }
   ],
   "source": [
    "#imports the libary\n",
    "import getpass, sys\n",
    "#defines the function\n",
    "#promt is the questions\n",
    "def question_with_response(prompt):\n",
    "    print(\"Question: \" + prompt)\n",
    "    msg = input()\n",
    "    return msg\n",
    "#variables\n",
    "questions = 7\n",
    "correct = 0\n",
    "#into words\n",
    "print('Hello, ' + getpass.getuser() + \" running \" + sys.executable)\n",
    "print(\"You will be asked \" + str(questions) + \" questions.\")\n",
    "print(\"Are you ready to take a test?\")\n",
    "\n",
    "quest = [ \"What command is used to include other functions that were previously developed?\",\"What command is used to evaluate correct or incorrect response in this example?\",\"Each 'if' command contains an '_________' to determine a true or false condition?\",\"What key word in python defines a function?\",\"What key word turns a variable into a string?\",\"what command stores what the user types?\",\"what command is followed b 'if'?\"]\n",
    "\n",
    "Answers = {\n",
    "    \"0\" : [\"import\",\"Import\"],\n",
    "    \"1\" : [\"if\", \"If\"],\n",
    "    \"2\" : [\"expression\",\"Expression\"],\n",
    "    \"3\" : [\"def\",\"Def\"],\n",
    "    \"4\" : [\"str\",\"Str\"],\n",
    "    \"5\" : [\"input\",\"Input\"],\n",
    "    \"6\" : [\"else\",\"Else\"]\n",
    "}\n",
    "\n",
    "q = -1\n",
    "\n",
    "while q <6:\n",
    "    q += 1\n",
    "    rsp = question_with_response(quest[q])\n",
    "    if rsp in Answers[str(q)]:\n",
    "        print( rsp + \" is correct\")\n",
    "        correct += 1\n",
    "    else:\n",
    "        print( rsp +(\" is incorrect\"))\n",
    "        \n",
    "# the value in the variable correct is divided by the value in the variable question and then multiplied by 100\n",
    "# this value is saved in the variable percentage\n",
    "percentage = correct/questions *100\n",
    "\n",
    "if percentage < 50:\n",
    "    print(getpass.getuser() + \" You failed\")\n",
    "else:\n",
    "    print(getpass.getuser() +\" You passed\")\n",
    "    \n",
    "#getpass.getuser() takes the user name  and str converts the variable correct into a string\n",
    "#this is the same with the variable question\n",
    "print( \" you scored \" + str(correct) +\"/\" + str(questions))\n",
    "print(\"or \" + str(percentage) +\"%\")\n",
    "# To show the percentage, the calculated value in the variable \"percentage\" then convert into a string\n"
   ]
  }
 ],
 "metadata": {
  "kernelspec": {
   "display_name": "Python 3",
   "language": "python",
   "name": "python3"
  },
  "language_info": {
   "codemirror_mode": {
    "name": "ipython",
    "version": 3
   },
   "file_extension": ".py",
   "mimetype": "text/x-python",
   "name": "python",
   "nbconvert_exporter": "python",
   "pygments_lexer": "ipython3",
   "version": "3.11.5"
  },
  "orig_nbformat": 4
 },
 "nbformat": 4,
 "nbformat_minor": 2
}
