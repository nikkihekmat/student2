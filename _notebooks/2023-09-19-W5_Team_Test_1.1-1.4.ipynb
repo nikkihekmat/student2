{
 "cells": [
  {
   "cell_type": "markdown",
   "metadata": {},
   "source": [
    "---\n",
    "comments: true\n",
    "layout: post\n",
    "title: Team Test 1.1-1.4\n",
    "description: Our team test project for live review.\n",
    "type: tangibles\n",
    "courses: { compsci: {week: 5} }\n",
    "---"
   ]
  },
  {
   "cell_type": "markdown",
   "metadata": {},
   "source": [
    "# Introduction\n",
    "\n",
    "Our Team Test video will include a collaboration review, the explanation of the function and purpose of a a program (quiz) that we created, the explanation of the design and development of a program we've expanded upon, and lastly the identification of coding errors to showcase code logic.  "
   ]
  },
  {
   "cell_type": "markdown",
   "metadata": {},
   "source": []
  }
 ],
 "metadata": {
  "language_info": {
   "name": "python"
  },
  "orig_nbformat": 4
 },
 "nbformat": 4,
 "nbformat_minor": 2
}
