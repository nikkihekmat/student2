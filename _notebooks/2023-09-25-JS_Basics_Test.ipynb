{
 "cells": [
  {
   "cell_type": "markdown",
   "metadata": {},
   "source": [
    "---\n",
    "comments: true\n",
    "layout: post\n",
    "title: JavaScript Basics Test\n",
    "description: JS Basics Test due Thursday 9/28\n",
    "type: hacks\n",
    "courses: { compsci: {week: 6} }\n",
    "---"
   ]
  },
  {
   "cell_type": "markdown",
   "metadata": {},
   "source": [
    "# Hack 1: HTML"
   ]
  },
  {
   "cell_type": "markdown",
   "metadata": {
    "vscode": {
     "languageId": "html"
    }
   },
   "source": [
    "<h3> Helpful Sites to Find Popular Books </h3>\n",
    "\n",
    "<div> \n",
    "    <p>Barnes and Nobles will feature the most popular books in every genre on their website, making it easy for you to start your reading journey on the right foot!</p>\n",
    "    <a href=\"https://www.barnesandnoble.com/b/books/_/N-1fZ29Z8q8\"> <button>Barnes and Nobles Top 100 Books</button> </a>\n",
    "</div>\n",
    "\n",
    "<div>\n",
    "    <a href=\"https://www.nytimes.com/spotlight/books-to-read\"> The New York Times Bestseller List </a>\n",
    "    <a href=\"https://www.goodreads.com/\"> Goodreads </a>\n",
    "    <p>The New York Times ranks books on their bestseller list, making it a valuable source for finding a great new read. Goodreads is also popular, as it's a platform where thousands of readers can rate books in an online forum; though, you do need an account.</p>\n",
    "</div>\n",
    "\n",
    "<div>\n",
    "    <p>Here are the top recommended books from the major publishing houses in the US.</p>\n",
    "    <a href =\"https://www.penguinrandomhouse.com/books/best-sellers/\"> Penguin Random House Fiction Bestsellers</a>\n",
    "    <a href =\"https://www.simonandschuster.com/search/books/Bestsellers/_/N-i9v/Ne-pgx\"> Simon and Schuster Bestsellers</a>\n",
    "</div>"
   ]
  },
  {
   "cell_type": "markdown",
   "metadata": {},
   "source": [
    "# Hack 2: Data Types"
   ]
  },
  {
   "cell_type": "code",
   "execution_count": 15,
   "metadata": {},
   "outputs": [
    {
     "data": {
      "application/javascript": "var me = { \n    name: \"nikki\",\n    age: 17,\n    current classes: [\"AP Literature\",\"AP Human Geography\",\"AP US Government and Politics\",\"AP Computer Science Principles,\"],\n    interests: [\"reading\",\"creative writing\",\"social justice\",\"Middle Eastern representation\"],\n    number of siblings: 1,\n    books: \"The Other Side of the Forest, currently due in the Spring of 2024\"\n    }\n\nconsole.log(me)\n\nme.interests.append(\"animals\")\nconsole.log(me)\nconsole.log(me[\"interests\"])\n\nconsole.log(\"My age next year: \"+(me[\"age\"]+1))\n\nconsole.log(typeof me[\"name\"])\nconsole.log(typeof me[\"age\"])\nconsole.log(typeof me[\"number of siblings\"])\n",
      "text/plain": [
       "<IPython.core.display.Javascript object>"
      ]
     },
     "metadata": {},
     "output_type": "display_data"
    }
   ],
   "source": [
    "\n",
    "%%js\n",
    "\n",
    "var me = { \n",
    "    name: \"nikki\",\n",
    "    age: 17,\n",
    "    current classes: [\"AP Literature\",\"AP Human Geography\",\"AP US Government and Politics\",\"AP Computer Science Principles,\"],\n",
    "    interests: [\"reading\",\"creative writing\",\"social justice\",\"Middle Eastern representation\"],\n",
    "    number of siblings: 1,\n",
    "    books: \"The Other Side of the Forest, currently due in the Spring of 2024\"\n",
    "    }\n",
    "\n",
    "console.log(me)\n",
    "\n",
    "me.interests.append(\"animals\")\n",
    "console.log(me)\n",
    "console.log(me[\"interests\"])\n",
    "\n",
    "console.log(\"My age next year: \"+(me[\"age\"]+1))\n",
    "\n",
    "console.log(typeof me[\"name\"])\n",
    "console.log(typeof me[\"age\"])\n",
    "console.log(typeof me[\"number of siblings\"])"
   ]
  },
  {
   "cell_type": "markdown",
   "metadata": {},
   "source": [
    "# Hack 3: DOM"
   ]
  },
  {
   "cell_type": "code",
   "execution_count": 6,
   "metadata": {},
   "outputs": [
    {
     "data": {
      "text/html": [
       "\n",
       "<h3> Helpful Sites to Find Popular Books </h3>\n",
       "\n",
       "<div> \n",
       "    <p id=\"la\">Barnes and Nobles will feature the most popular books in every genre on their website, making it easy for you to start your reading journey on the right foot!</p>\n",
       "    <a href=\"https://www.barnesandnoble.com/b/books/_/N-1fZ29Z8q8\"> <button id=\"btn\">Barnes and Nobles Top 100 Books</button> </a>\n",
       "</div>\n",
       "\n",
       "<div>\n",
       "    <a href=\"https://www.nytimes.com/spotlight/books-to-read\"> The New York Times Bestseller List </a>\n",
       "    <a href=\"https://www.goodreads.com/\"> Goodreads </a>\n",
       "    <p>The New York Times ranks books on their bestseller list, making it a valuable source for finding a great new read. Goodreads is also popular, as it's a platform where thousands of readers can rate books in an online forum; though, you do need an account.</p>\n",
       "</div>\n",
       "\n",
       "<script>\n",
       "    document.getElementById(\"btn\").addEventListener(\"click\", function() {\n",
       "    var links = document.getElementsByTagName(\"a\");\n",
       "    for (let i = 0; i < links.length; i++) {\n",
       "      links[i].href = \"https://www.nytimes.com/spotlight/books-to-read\"; \n",
       "    }\n",
       "    document.getElementById(\"la\").innerHTML = \"Switched!\";\n",
       "  });\n",
       "</script>\n"
      ],
      "text/plain": [
       "<IPython.core.display.HTML object>"
      ]
     },
     "metadata": {},
     "output_type": "display_data"
    }
   ],
   "source": [
    "%%html\n",
    "\n",
    "<h3> Helpful Sites to Find Popular Books </h3>\n",
    "\n",
    "<div> \n",
    "    <p id=\"la\">Barnes and Nobles will feature the most popular books in every genre on their website, making it easy for you to start your reading journey on the right foot!</p>\n",
    "    <a href=\"https://www.barnesandnoble.com/b/books/_/N-1fZ29Z8q8\"> <button id=\"btn\">Barnes and Nobles Top 100 Books</button> </a>\n",
    "</div>\n",
    "\n",
    "<div>\n",
    "    <a href=\"https://www.nytimes.com/spotlight/books-to-read\"> The New York Times Bestseller List </a>\n",
    "    <a href=\"https://www.goodreads.com/\"> Goodreads </a>\n",
    "    <p>The New York Times ranks books on their bestseller list, making it a valuable source for finding a great new read. Goodreads is also popular, as it's a platform where thousands of readers can rate books in an online forum; though, you do need an account.</p>\n",
    "</div>\n",
    "\n",
    "<script>\n",
    "    document.getElementById(\"btn\").addEventListener(\"click\", function() {\n",
    "    var links = document.getElementsByTagName(\"a\");\n",
    "    for (let i = 0; i < links.length; i++) {\n",
    "      links[i].href = \"https://www.nytimes.com/spotlight/books-to-read\"; \n",
    "    }\n",
    "    document.getElementById(\"la\").innerHTML = \"Switched!\";\n",
    "  });\n",
    "</script>"
   ]
  },
  {
   "cell_type": "markdown",
   "metadata": {},
   "source": [
    "# Hack 4: JavaScript"
   ]
  },
  {
   "cell_type": "code",
   "execution_count": 10,
   "metadata": {},
   "outputs": [
    {
     "data": {
      "application/javascript": "\nconsole.log(\"If statements + Operators\")\nvar a = 17\nvar b = 37\n\nif (a > b) {\n    console.log(\"a is more than b\")\n\n} else if (a == b) {\n    console.log(\"a is the same as b\")\n\n} else  {\n    console.log(\"a is less than b\")\n}\n",
      "text/plain": [
       "<IPython.core.display.Javascript object>"
      ]
     },
     "metadata": {},
     "output_type": "display_data"
    }
   ],
   "source": [
    "%%js\n",
    "\n",
    "console.log(\"If statements + Operators\")\n",
    "var a = 17\n",
    "var b = 37\n",
    "\n",
    "if (a > b) {\n",
    "    console.log(\"a is more than b\")\n",
    "\n",
    "} else if (a == b) {\n",
    "    console.log(\"a is the same as b\")\n",
    "\n",
    "} else  {\n",
    "    console.log(\"a is less than b\")\n",
    "}"
   ]
  },
  {
   "cell_type": "markdown",
   "metadata": {},
   "source": [
    "# Hack 5: JS Debugging"
   ]
  },
  {
   "cell_type": "code",
   "execution_count": 12,
   "metadata": {},
   "outputs": [
    {
     "data": {
      "application/javascript": "\n# Segment 1: Alphabet List\n\nvar alphabet = \"abcdefghijklmnopqrstuvwxyz\";\nvar alphabetList = [];\n\nalphabetList = alphabet.split()\n\nfor (var i = 0; i < 25; i++) {\n\talphabetList.push(i);\n}\n\nconsole.log(alphabetList);\n\n# What I changed . . .\n\n# changed iterator from 1 to 25\n",
      "text/plain": [
       "<IPython.core.display.Javascript object>"
      ]
     },
     "metadata": {},
     "output_type": "display_data"
    }
   ],
   "source": [
    "%%js\n",
    "\n",
    "# Segment 1: Alphabet List\n",
    "\n",
    "var alphabet = \"abcdefghijklmnopqrstuvwxyz\";\n",
    "var alphabetList = [];\n",
    "\n",
    "alphabetList = alphabet.split()\n",
    "\n",
    "for (var i = 0; i < 25; i++) {\n",
    "\talphabetList.push(alphabetList[i]i);\n",
    "}\n",
    "\n",
    "console.log(alphabetList);\n",
    "\n",
    "# What I changed . . .\n",
    "\n",
    "## changed iterator from 1 to 25 to match the length of the alphabet\n",
    "## changed push instruction to add the letter at the iterator position to the list instead of the iterator itself \n"
   ]
  },
  {
   "cell_type": "code",
   "execution_count": 1,
   "metadata": {},
   "outputs": [
    {
     "data": {
      "application/javascript": "\n# Segment 2: Numbered Alphabet\n\nvar alphabet = \"abcdefghijklmnopqrstuvwxyz\";\nvar alphabetList = [];\nvar letterNumber = 0\n\nfor (var i = 0; i < alphabet.length; i++) {\n\talphabet.push(alphabet[i]);\n\tletterNumber += 1\n \n \tif (i == 4) {\n\t\tconsole.log(alphabetList(i) + \" is letter number \" + letterNumber +\" in the alphabet\")\n\t}\n}\n\n// Should output:\n// \"e\" is letter number 5 in the alphabet\n\n# What I changed . . .\n\n## changed the iteration alphabet to capture i to the length of alphabetList instead of comparing it to the list itself\n## removed the extra equal sign from the if statement\n## changed the console log to print the letter instead of the iterator\n## changed the console log to reference letterNumber instead of using a hard-coded number of 1\n",
      "text/plain": [
       "<IPython.core.display.Javascript object>"
      ]
     },
     "metadata": {},
     "output_type": "display_data"
    }
   ],
   "source": [
    "%%js\n",
    "\n",
    "# Segment 2: Numbered Alphabet\n",
    "\n",
    "var alphabet = \"abcdefghijklmnopqrstuvwxyz\";\n",
    "var alphabetList = [];\n",
    "var letterNumber = 0\n",
    "\n",
    "for (var i = 0; i < alphabet.length; i++) {\n",
    "\talphabet.push(alphabet[i]);\n",
    "\tletterNumber += 1\n",
    " \n",
    " \tif (i == 4) {\n",
    "\t\tconsole.log(alphabetList(i) + \" is letter number \" + letterNumber +\" in the alphabet\")\n",
    "\t}\n",
    "}\n",
    "\n",
    "// Should output:\n",
    "// \"e\" is letter number 5 in the alphabet\n",
    "\n",
    "# What I changed . . .\n",
    "\n",
    "## changed value of the variable letterNumber from 5 to 0; allows it to print all letters from a-z with their corresponding positions by using alphabetList.push(alphabet[i]) and increasing letterNumber by 1 everytime the loop ran\n",
    "## by further restricting what is printed using an if statement to guarantee that i == 4, able to only print that e is letter number 5 in the alphabet"
   ]
  },
  {
   "cell_type": "code",
   "execution_count": null,
   "metadata": {},
   "outputs": [],
   "source": [
    "%%js\n",
    "\n",
    "# Segment 3: Odd Numbers\n",
    "\n",
    "let odds = [];\n",
    "let i = 1;\n",
    "\n",
    "while (i <= 10) {\n",
    "  odds.push(i);\n",
    "  i += 2;\n",
    "}\n",
    "\n",
    "console.log(odds);\n",
    "\n",
    "## What I changed . . .\n",
    "\n",
    "# changed evens to odds\n",
    "# changed i to 1 so that when you add 2 each time to 1 it give you an odd list than an even list"
   ]
  },
  {
   "cell_type": "markdown",
   "metadata": {},
   "source": [
    "# Review Ticket\n",
    "\n"
   ]
  }
 ],
 "metadata": {
  "kernelspec": {
   "display_name": "Python 3",
   "language": "python",
   "name": "python3"
  },
  "language_info": {
   "codemirror_mode": {
    "name": "ipython",
    "version": 3
   },
   "file_extension": ".py",
   "mimetype": "text/x-python",
   "name": "python",
   "nbconvert_exporter": "python",
   "pygments_lexer": "ipython3",
   "version": "3.11.5"
  },
  "orig_nbformat": 4
 },
 "nbformat": 4,
 "nbformat_minor": 2
}
