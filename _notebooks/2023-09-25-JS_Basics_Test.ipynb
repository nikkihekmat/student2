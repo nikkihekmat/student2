{
 "cells": [
  {
   "cell_type": "markdown",
   "metadata": {},
   "source": [
    "---\n",
    "comments: true\n",
    "layout: post\n",
    "title: JavaScript Basics Test\n",
    "description: JS Basics Test due Thursday 9/28\n",
    "type: hacks\n",
    "courses: { compsci: {week: 6} }\n",
    "---"
   ]
  },
  {
   "cell_type": "code",
   "execution_count": null,
   "metadata": {
    "vscode": {
     "languageId": "html"
    }
   },
   "outputs": [],
   "source": [
    "<h2> HTML Code Cell </h2>\n",
    "\n",
    "<div> \n",
    "    <p> Click here for </p>\n",
    "    <button>Barnes and Nobles Website</button>\n",
    "</div>\n",
    "\n",
    "<div>\n",
    "    <a href=\"link\">link text</a>\n",
    "    <a href=\"link\">link text</a>\n",
    "    <p> </p>\n",
    "</div>"
   ]
  }
 ],
 "metadata": {
  "language_info": {
   "name": "python"
  },
  "orig_nbformat": 4
 },
 "nbformat": 4,
 "nbformat_minor": 2
}
