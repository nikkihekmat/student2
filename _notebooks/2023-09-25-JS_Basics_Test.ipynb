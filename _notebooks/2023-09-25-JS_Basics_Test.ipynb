{
 "cells": [
  {
   "cell_type": "markdown",
   "metadata": {},
   "source": [
    "---\n",
    "comments: true\n",
    "layout: post\n",
    "title: JavaScript Basics Test\n",
    "description: JS Basics Test due Thursday 9/28\n",
    "type: hacks\n",
    "courses: { compsci: {week: 6} }\n",
    "---"
   ]
  },
  {
   "cell_type": "markdown",
   "metadata": {},
   "source": [
    "# Hack 1: HTML"
   ]
  },
  {
   "cell_type": "markdown",
   "metadata": {
    "vscode": {
     "languageId": "html"
    }
   },
   "source": [
    "<h3> Helpful Sites to Find Popular Books </h3>\n",
    "\n",
    "<div> \n",
    "    <p>Barnes and Nobles will feature the most popular books in every genre on their website, making it easy for you to start your reading journey on the right foot!</p>\n",
    "    <a href=\"https://www.barnesandnoble.com/b/books/_/N-1fZ29Z8q8\"> <button>Barnes and Nobles Top 100 Books</button> </a>\n",
    "</div>\n",
    "\n",
    "<div>\n",
    "    <a href=\"https://www.nytimes.com/spotlight/books-to-read\"> The New York Times Bestseller List </a>\n",
    "    <a href=\"https://www.goodreads.com/\"> Goodreads </a>\n",
    "    <p>The New York Times ranks books on their bestseller list, making it a valuable source for finding a great new read. Goodreads is also popular, as it's a platform where thousands of readers can rate books in an online forum; though, you do need an account.</p>\n",
    "</div>"
   ]
  },
  {
   "cell_type": "markdown",
   "metadata": {},
   "source": [
    "# Hack 2: Data Types"
   ]
  },
  {
   "cell_type": "code",
   "execution_count": 15,
   "metadata": {},
   "outputs": [
    {
     "data": {
      "application/javascript": "var me = { \n    name: \"nikki\",\n    age: 17,\n    current classes: [\"AP Literature\",\"AP Human Geography\",\"AP US Government and Politics\",\"AP Computer Science Principles,\"],\n    interests: [\"reading\",\"creative writing\",\"social justice\",\"Middle Eastern representation\"],\n    number of siblings: 1,\n    books: \"The Other Side of the Forest, currently due in the Spring of 2024\"\n    }\n\nconsole.log(me)\n\nme.interests.append(\"animals\")\nconsole.log(me)\nconsole.log(me[\"interests\"])\n\nconsole.log(\"My age next year: \"+(me[\"age\"]+1))\n\nconsole.log(typeof me[\"name\"])\nconsole.log(typeof me[\"age\"])\nconsole.log(typeof me[\"number of siblings\"])\n",
      "text/plain": [
       "<IPython.core.display.Javascript object>"
      ]
     },
     "metadata": {},
     "output_type": "display_data"
    }
   ],
   "source": [
    "\n",
    "%%js\n",
    "\n",
    "var me = { \n",
    "    name: \"nikki\",\n",
    "    age: 17,\n",
    "    current classes: [\"AP Literature\",\"AP Human Geography\",\"AP US Government and Politics\",\"AP Computer Science Principles,\"],\n",
    "    interests: [\"reading\",\"creative writing\",\"social justice\",\"Middle Eastern representation\"],\n",
    "    number of siblings: 1,\n",
    "    books: \"The Other Side of the Forest, currently due in the Spring of 2024\"\n",
    "    }\n",
    "\n",
    "console.log(me)\n",
    "\n",
    "me.interests.append(\"animals\")\n",
    "console.log(me)\n",
    "console.log(me[\"interests\"])\n",
    "\n",
    "console.log(\"My age next year: \"+(me[\"age\"]+1))\n",
    "\n",
    "console.log(typeof me[\"name\"])\n",
    "console.log(typeof me[\"age\"])\n",
    "console.log(typeof me[\"number of siblings\"])"
   ]
  },
  {
   "cell_type": "markdown",
   "metadata": {},
   "source": [
    "# Hack 3: DOM"
   ]
  },
  {
   "cell_type": "markdown",
   "metadata": {},
   "source": [
    "<h3> Helpful Sites to Find Popular Books </h3>\n",
    "\n",
    "<div> \n",
    "    <p>Barnes and Nobles will feature the most popular books in every genre on their website, making it easy for you to start your reading journey on the right foot!</p>\n",
    "    <a href=\"https://www.barnesandnoble.com/b/books/_/N-1fZ29Z8q8\"> <button>Barnes and Nobles Top 100 Books</button> </a>\n",
    "</div>\n",
    "\n",
    "<div>\n",
    "    <a href=\"https://www.nytimes.com/spotlight/books-to-read\"> The New York Times Bestseller List </a>\n",
    "    <a href=\"https://www.goodreads.com/\"> Goodreads </a>\n",
    "    <p>The New York Times ranks books on their bestseller list, making it a valuable source for finding a great new read. Goodreads is also popular, as it's a platform where thousands of readers can rate books in an online forum; though, you do need an account.</p>\n",
    "</div>\n",
    "\n",
    "%%html\n",
    "<!-- html code goes here (make sure to run) -->\n",
    "\n",
    "<script>\n",
    "  // your javascript code goes here\n",
    "</script>"
   ]
  }
 ],
 "metadata": {
  "kernelspec": {
   "display_name": "Python 3",
   "language": "python",
   "name": "python3"
  },
  "language_info": {
   "codemirror_mode": {
    "name": "ipython",
    "version": 3
   },
   "file_extension": ".py",
   "mimetype": "text/x-python",
   "name": "python",
   "nbconvert_exporter": "python",
   "pygments_lexer": "ipython3",
   "version": "3.11.5"
  },
  "orig_nbformat": 4
 },
 "nbformat": 4,
 "nbformat_minor": 2
}
