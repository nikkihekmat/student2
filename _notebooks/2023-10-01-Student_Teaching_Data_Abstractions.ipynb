{
 "cells": [
  {
   "cell_type": "markdown",
   "metadata": {},
   "source": [
    "---\n",
    "comments: true\n",
    "layout: post\n",
    "title: Student Teaching Data Abstractions\n",
    "description: College Board topics 3.1-3.2\n",
    "type: hacks\n",
    "courses: { compsci: {week: 7} }\n",
    "---"
   ]
  },
  {
   "cell_type": "markdown",
   "metadata": {},
   "source": [
    "# 3.1 Variables and Assignments"
   ]
  },
  {
   "cell_type": "markdown",
   "metadata": {},
   "source": [
    "### Variables\n",
    "\n",
    "What is a variable?\n",
    "- An abstraction inside a program that can hold value/store information\n",
    "- Note: a variable should be concise but not too short (like one letter), it shouldn't have spaces or any special characters\n",
    "    - Ex: \"highScore\" is more concise than \"highestscoreinthegame\"\n",
    "    - Ex: \"name\" is more specific than \"n\"\n",
    "    - Ex: \"isitraining\" doesn't have spaces in between the words\n",
    "    - Ex: \"phonenumber\" doesn't have a hyphen like \"555-number\"\n",
    "\n",
    "#### Examples"
   ]
  },
  {
   "cell_type": "code",
   "execution_count": 7,
   "metadata": {},
   "outputs": [
    {
     "name": "stdout",
     "output_type": "stream",
     "text": [
      "26\n",
      "Tesla\n"
     ]
    }
   ],
   "source": [
    "numStudents = 26\n",
    "print(numStudents)\n",
    "\n",
    "car = \"Tesla\"\n",
    "print(car)"
   ]
  },
  {
   "cell_type": "markdown",
   "metadata": {},
   "source": [
    "### Data Types\n",
    "\n",
    "A data type is a type of variable, and there are four main types: \n",
    "- integer: a mathematical number\n",
    "- boolean: a yes/no or true/false statement\n",
    "- text (or string): for any text-based variable (including phone numbers)\n",
    "\n",
    "#### Examples\n",
    "- Note that for Python you need to classify anything other than a string as a string (or \"str\") in order to print\n",
    "- the following examples represent the storing of data within a variable "
   ]
  },
  {
   "cell_type": "code",
   "execution_count": 14,
   "metadata": {},
   "outputs": [
    {
     "name": "stdout",
     "output_type": "stream",
     "text": [
      "9 is an integer\n",
      "False is a boolean\n",
      "Nikki is a string\n"
     ]
    }
   ],
   "source": [
    "highScore = 9 \n",
    "isRaining = False\n",
    "firstName = \"Nikki\"\n",
    "print(str(highScore) + \" is an integer\")\n",
    "print(str(isRaining) + \" is a boolean\")\n",
    "print(firstName + \" is a string\")"
   ]
  },
  {
   "cell_type": "markdown",
   "metadata": {},
   "source": [
    "### Changing Values\n",
    "\n",
    "A variable itself isn't static, so you can change it to give different or more updated information. An example of this is having a variable that calculates changing age.\n",
    "\n",
    "#### Examples\n",
    "The following examples shows how you can replace one variable with another. See if you can figure out what data will be printed out before it runs!"
   ]
  },
  {
   "cell_type": "code",
   "execution_count": 15,
   "metadata": {},
   "outputs": [
    {
     "name": "stdout",
     "output_type": "stream",
     "text": [
      "10\n"
     ]
    }
   ],
   "source": [
    "currentScore = 10\n",
    "highScore = currentScore\n",
    "currentScore = 7\n",
    "print(str(highScore))"
   ]
  },
  {
   "cell_type": "code",
   "execution_count": 16,
   "metadata": {},
   "outputs": [
    {
     "name": "stdout",
     "output_type": "stream",
     "text": [
      "30\n",
      "30\n",
      "25\n"
     ]
    }
   ],
   "source": [
    "num1 = 25\n",
    "num2 = 15\n",
    "num3 = 30\n",
    "num2 = num3 \n",
    "num3 = num1\n",
    "num1 = num2\n",
    "print(str(num1))\n",
    "print(str(num2))\n",
    "print(str(num3))"
   ]
  },
  {
   "cell_type": "markdown",
   "metadata": {},
   "source": [
    "# 3.2 Data Abstraction"
   ]
  },
  {
   "cell_type": "markdown",
   "metadata": {},
   "source": [
    "### New Types of Variables\n",
    "- Strings\n",
    "    - an ordered sequence of characters\n",
    "    - may contain letters, numbers, and all other special characters\n",
    "    - Ex: words, phrases, sentences, ID numbers\n",
    "- Lists\n",
    "    - an ordered sequence of elements\n",
    "    - each element is a variable\n",
    "    - Ex: playlist of songs, names of students in a class, contacts in your phone"
   ]
  },
  {
   "cell_type": "markdown",
   "metadata": {},
   "source": [
    "### List Index\n",
    "- each element of a string is referenced by an index\n",
    "- for the AP test an index will start at 1 (example image below), but in actuality it starts at 0 (the following examples)\n",
    "\n",
    "<img src=\"https://ibb.co/0p5g3M6\" alt=\"x\">\n",
    "\n",
    "#### Examples"
   ]
  },
  {
   "cell_type": "code",
   "execution_count": 17,
   "metadata": {},
   "outputs": [],
   "source": [
    "groupNames = [\"Nikki\", \"Ankit\", \"Varun\", \"Monika\"]\n",
    "print(groupNames)"
   ]
  }
 ],
 "metadata": {
  "kernelspec": {
   "display_name": "Python 3",
   "language": "python",
   "name": "python3"
  },
  "language_info": {
   "codemirror_mode": {
    "name": "ipython",
    "version": 3
   },
   "file_extension": ".py",
   "mimetype": "text/x-python",
   "name": "python",
   "nbconvert_exporter": "python",
   "pygments_lexer": "ipython3",
   "version": "3.11.5"
  },
  "orig_nbformat": 4
 },
 "nbformat": 4,
 "nbformat_minor": 2
}
