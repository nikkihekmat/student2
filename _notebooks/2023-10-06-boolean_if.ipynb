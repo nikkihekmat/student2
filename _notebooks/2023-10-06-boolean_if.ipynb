{
 "cells": [
  {
   "cell_type": "markdown",
   "metadata": {},
   "source": [
    "# Boolean If:\n",
    "## 3.5 & 3.6 Boolean Expressions & Conditionals"
   ]
  },
  {
   "cell_type": "markdown",
   "metadata": {},
   "source": [
    "## Relational Operators"
   ]
  },
  {
   "cell_type": "markdown",
   "metadata": {},
   "source": [
    "- A boolean value is either true or false\n",
    "- Typically yes or no questions like “do I have a dog?”\n",
    "- So when you write an expression to evaluate, you need to use different types of relational operators determining on the questions that we’re trying to ask\n",
    "    - Ex: when trying to test to see whether or not two values or two variables are equal, then you use the equal sign to check whether or not two values or two variables contain the same value\n",
    "        - a = b [equal to] numStudents = 30\n",
    "        - This checks whether the value is also equal to 30\n",
    "- You can also use the not equal sign to evaluate whether or not two values are not equal to each other\n",
    "    - a ≠ b [not equal to] count ≠ 10\n",
    "- We can also use the greater than or less than symbol to check whether or not something is greater than or less than then the other\n",
    "    - a > b [greater than] grade > 70\n",
    "- ou can also use the greater/less than or equal to\n",
    "    - a ≥ b [greater than or equal to] numPets ≥  0"
   ]
  },
  {
   "cell_type": "code",
   "execution_count": 1,
   "metadata": {},
   "outputs": [
    {
     "name": "stdout",
     "output_type": "stream",
     "text": [
      "False\n"
     ]
    }
   ],
   "source": [
    "num1 = 5  \n",
    "num2 = 7  \n",
    "\n",
    "are_equal = num1 == num2\n",
    "\n",
    "print(are_equal)  # This will print False in this example"
   ]
  },
  {
   "cell_type": "code",
   "execution_count": 2,
   "metadata": {},
   "outputs": [
    {
     "name": "stdout",
     "output_type": "stream",
     "text": [
      "True\n"
     ]
    }
   ],
   "source": [
    "#Popcorn Hack\n",
    "\n",
    "num1 = 5\n",
    "num2 = 5\n",
    "\n",
    "are_equal = num1 == num2\n",
    "\n",
    "print(are_equal)\n"
   ]
  },
  {
   "cell_type": "code",
   "execution_count": null,
   "metadata": {},
   "outputs": [],
   "source": [
    "num1 = 5  \n",
    "num2 = 7  \n",
    "\n",
    "are_not_equal = num1 != num2\n",
    "\n",
    "print(are_not_equal)  # This will print True in this example"
   ]
  },
  {
   "cell_type": "code",
   "execution_count": 5,
   "metadata": {},
   "outputs": [
    {
     "name": "stdout",
     "output_type": "stream",
     "text": [
      "False\n"
     ]
    }
   ],
   "source": [
    "num1 = 8  \n",
    "num2 = 7  \n",
    "\n",
    "is_less_than = num1 < num2\n",
    "\n",
    "print(is_less_than)  # This will print True in this example"
   ]
  },
  {
   "cell_type": "code",
   "execution_count": 4,
   "metadata": {},
   "outputs": [
    {
     "name": "stdout",
     "output_type": "stream",
     "text": [
      "False\n"
     ]
    }
   ],
   "source": [
    "num1 = 5  \n",
    "num2 = 7  \n",
    "\n",
    "is_greater_than = num1 > num2\n",
    "\n",
    "print(is_greater_than)  # This will print False in this example"
   ]
  },
  {
   "cell_type": "markdown",
   "metadata": {},
   "source": [
    "# Logical Operators\n",
    "- NOT condition: flips what is currently stored in the variable without impacting the variable/condition itself\n",
    "- AND condition: checks both conditions to produce one single Boolean true or false\n",
    "- OR condition: checks whether or not one of the conditions is true or false\n",
    "- These logical operators can be used with boolean expressions to produce a single Boolean value"
   ]
  },
  {
   "cell_type": "code",
   "execution_count": 10,
   "metadata": {},
   "outputs": [
    {
     "name": "stdout",
     "output_type": "stream",
     "text": [
      "True\n"
     ]
    }
   ],
   "source": [
    "# not condition\n",
    "isRaining = False\n",
    "result = not isRaining\n",
    "print(result)"
   ]
  },
  {
   "cell_type": "code",
   "execution_count": 6,
   "metadata": {},
   "outputs": [
    {
     "name": "stdout",
     "output_type": "stream",
     "text": [
      "True\n",
      "False\n"
     ]
    }
   ],
   "source": [
    "# and conditions\n",
    "grade = 85\n",
    "result = grade > 70 and grade < 100\n",
    "print(result)\n",
    "grade = 59\n",
    "result = grade > 70 and grade < 100\n",
    "print(result)"
   ]
  },
  {
   "cell_type": "code",
   "execution_count": 7,
   "metadata": {},
   "outputs": [
    {
     "name": "stdout",
     "output_type": "stream",
     "text": [
      "True\n",
      "False\n"
     ]
    }
   ],
   "source": [
    "# or conditions\n",
    "score = 175\n",
    "highScore = 150\n",
    "lives = 2\n",
    "result = (score > highScore) or (lives > 3)\n",
    "print(result)\n",
    "score = 175\n",
    "highScore = 150\n",
    "lives = 2\n",
    "result = (score < highScore) or (lives > 3)\n",
    "print(result)"
   ]
  },
  {
   "cell_type": "markdown",
   "metadata": {},
   "source": [
    "## Popcorn Hack\n",
    "- Create a code segment with an OR operator that is True. With the same score, change the conditions and create another expression that prints False instead of True."
   ]
  },
  {
   "cell_type": "code",
   "execution_count": 6,
   "metadata": {},
   "outputs": [
    {
     "name": "stdout",
     "output_type": "stream",
     "text": [
      "True\n",
      "False\n"
     ]
    }
   ],
   "source": [
    "score = 40\n",
    "highScore = 50\n",
    "lives = 5\n",
    "result = (score > highScore) or (lives > 3)\n",
    "print(result)\n",
    "\n",
    "score = 40\n",
    "highScore = 50\n",
    "lives = 5\n",
    "result = (score > highScore) or (lives < 3)\n",
    "print(result)"
   ]
  },
  {
   "cell_type": "markdown",
   "metadata": {},
   "source": [
    "# Relational & Logical Operators"
   ]
  },
  {
   "cell_type": "markdown",
   "metadata": {},
   "source": [
    "- Boolean values are either true or false\n",
    "- relational operators: =,≠, >, <, ≥, and ≤"
   ]
  },
  {
   "cell_type": "code",
   "execution_count": null,
   "metadata": {},
   "outputs": [],
   "source": [
    "# call back to relational operators\n",
    "a = b\n",
    "a ≠ b\n",
    "a > b\n",
    "a < b\n",
    "a ≥ b\n",
    "a ≤ b\n"
   ]
  },
  {
   "cell_type": "markdown",
   "metadata": {},
   "source": [
    "These are used to test the relationship between two variables, expressions, or values. A comparison between a relational operator evaluates to a Boolean value. "
   ]
  },
  {
   "cell_type": "code",
   "execution_count": 9,
   "metadata": {},
   "outputs": [
    {
     "ename": "NameError",
     "evalue": "name 'isRaining' is not defined",
     "output_type": "error",
     "traceback": [
      "\u001b[0;31m---------------------------------------------------------------------------\u001b[0m",
      "\u001b[0;31mNameError\u001b[0m                                 Traceback (most recent call last)",
      "Cell \u001b[0;32mIn[9], line 2\u001b[0m\n\u001b[1;32m      1\u001b[0m \u001b[39m# call back to logical operators\u001b[39;00m\n\u001b[0;32m----> 2\u001b[0m result \u001b[39m=\u001b[39m \u001b[39mnot\u001b[39;00m isRaining \u001b[39m# not condition\u001b[39;00m\n\u001b[1;32m      4\u001b[0m result \u001b[39m=\u001b[39m (score \u001b[39m>\u001b[39m highScore) \u001b[39mor\u001b[39;00m (lives \u001b[39m>\u001b[39m \u001b[39m3\u001b[39m) \u001b[39m# or condition\u001b[39;00m\n\u001b[1;32m      6\u001b[0m result \u001b[39m=\u001b[39m grade \u001b[39m>\u001b[39m \u001b[39m70\u001b[39m \u001b[39mand\u001b[39;00m grade \u001b[39m<\u001b[39m \u001b[39m100\u001b[39m \u001b[39m# and condition\u001b[39;00m\n",
      "\u001b[0;31mNameError\u001b[0m: name 'isRaining' is not defined"
     ]
    }
   ],
   "source": [
    "# call back to logical operators\n",
    "result = not isRaining # not condition\n",
    "\n",
    "result = (score > highScore) or (lives > 3) # or condition\n",
    "\n",
    "result = grade > 70 and grade < 100 # and condition"
   ]
  },
  {
   "cell_type": "markdown",
   "metadata": {},
   "source": [
    "## Different Expressions, Same Results\n",
    "\n",
    "- age ≥ 16\n",
    "- age > 16 or age = 16\n",
    "- NOT age < 16\n",
    "\n",
    "\n",
    "## Example"
   ]
  },
  {
   "cell_type": "code",
   "execution_count": 11,
   "metadata": {},
   "outputs": [
    {
     "data": {
      "text/plain": [
       "True"
      ]
     },
     "metadata": {},
     "output_type": "display_data"
    }
   ],
   "source": [
    "num = 7\n",
    "isEven = num % 2 == 0\n",
    "range = (num > 5) and (not num > 10)\n",
    "display (isEven or range)\n"
   ]
  },
  {
   "cell_type": "code",
   "execution_count": 10,
   "metadata": {},
   "outputs": [
    {
     "data": {
      "text/plain": [
       "True"
      ]
     },
     "metadata": {},
     "output_type": "display_data"
    }
   ],
   "source": [
    "# practice\n",
    "name = \"Hannah\"\n",
    "age = 17\n",
    "display ((not (name == \"Hannah\")) or (age < 20))"
   ]
  },
  {
   "cell_type": "markdown",
   "metadata": {},
   "source": [
    "## Popcorn Hack\n",
    "\n",
    "Create a Boolean expression using your favHobby as a variable and the number of classes you are taking as the second variable.\n",
    "- Must have:\n",
    "- favHobby and number of classes --> 2 variables\n",
    "- display expression; NOT and OR logical operators\n",
    "- one false expression and one true expression = overall true"
   ]
  },
  {
   "cell_type": "code",
   "execution_count": 7,
   "metadata": {},
   "outputs": [
    {
     "data": {
      "text/plain": [
       "True"
      ]
     },
     "metadata": {},
     "output_type": "display_data"
    }
   ],
   "source": [
    "# start with\n",
    "favHobby = \"writing\" \n",
    "numClasses = 4\n",
    "display((not (favHobby == \"writing\")) or (numClasses < 6))"
   ]
  },
  {
   "cell_type": "markdown",
   "metadata": {},
   "source": [
    "# learning objective: write algorithms that uses selection without using a programming language\n",
    "## vocab\n",
    "selection: determines which part of an algorithm are executed based on condition being true or false\n",
    "algorithm: a finite set of instructions that accomplish a specific task\n",
    "### ex determine if a number is in range\n",
    "- get number from user\n",
    "- is number greater than - and less than 10\n",
    "- if yes display number\n",
    "- if no display goodbye"
   ]
  },
  {
   "cell_type": "markdown",
   "metadata": {},
   "source": [
    "# participation hack:\n",
    "give me different ways you would determine if a kid needs to go to tutoring\n",
    "\n",
    "- if a kid plays too many sports, then they'll need tutoring \n",
    "- if a kid's grades are dropping, then they'll need tutoring"
   ]
  },
  {
   "cell_type": "markdown",
   "metadata": {},
   "source": [
    "# writing conditionals\n",
    "### format\n",
    "if (condition) :\n",
    "    <block of statements>\n",
    "- if the condition evaluates to true then the block of statements occurs\n",
    "- if not then no action is taken\n",
    "or\n",
    "if (condition) :\n",
    "    <first block of statements>\n",
    "else:\n",
    "    <second block of statements>\n",
    "-  if the condition is true then first block is executed if false then the second black or else statement is executed"
   ]
  },
  {
   "cell_type": "markdown",
   "metadata": {},
   "source": [
    "## Example -- multiple of 3?"
   ]
  },
  {
   "cell_type": "code",
   "execution_count": 16,
   "metadata": {},
   "outputs": [
    {
     "name": "stdout",
     "output_type": "stream",
     "text": [
      "multiple of 3\n"
     ]
    }
   ],
   "source": [
    "number = 9\n",
    "if number % 3 == 0 :\n",
    "    print (\"multiple of 3\")\n",
    "else:\n",
    "    print (\"not multiple of 3\")"
   ]
  },
  {
   "cell_type": "markdown",
   "metadata": {},
   "source": [
    "# Popcorn Hack\n",
    "calculate the sum of two numbers -> if the sum is greater than 100 display 100, otherwise display the sum."
   ]
  },
  {
   "cell_type": "code",
   "execution_count": 9,
   "metadata": {},
   "outputs": [
    {
     "name": "stdout",
     "output_type": "stream",
     "text": [
      "sum greater than 100\n"
     ]
    }
   ],
   "source": [
    "num1 = 40\n",
    "num2 = 70\n",
    "sum = num1 + num2\n",
    "if sum > 100 :\n",
    "    print (\"sum greater than 100\")\n",
    "else: \n",
    "    print(\"sum not greater than 100\")\n",
    "    "
   ]
  },
  {
   "cell_type": "markdown",
   "metadata": {},
   "source": [
    "help you guys get started:\n",
    "num 1 =\n",
    "num 2 =\n",
    "sum = num 1 + num 2\n",
    "if ():\n",
    "else :"
   ]
  },
  {
   "cell_type": "markdown",
   "metadata": {},
   "source": [
    "# We can do conditional statements using if blocks that just choose or do one particular outcome based off of a condition\n",
    "# Or you can do if-else blocks to choose from two different outcomes"
   ]
  },
  {
   "cell_type": "markdown",
   "metadata": {},
   "source": [
    "IF (condition)\n",
    "{\n",
    "\t<block of statements>\n",
    "}\n",
    "ELSE\n",
    "{\n",
    "\t<second block of statements>\n",
    "}\n",
    "The else only activates if the “if condition” is FALSE"
   ]
  },
  {
   "cell_type": "markdown",
   "metadata": {},
   "source": [
    "# Example 1: if-elif-else block"
   ]
  },
  {
   "cell_type": "code",
   "execution_count": 1,
   "metadata": {},
   "outputs": [
    {
     "name": "stdout",
     "output_type": "stream",
     "text": [
      "y is less than 10\n"
     ]
    }
   ],
   "source": [
    "\n",
    "y = 7\n",
    "if y > 10:\n",
    "    print(\"y is greater than 10\")\n",
    "elif y == 10:\n",
    "    print(\"y is equal to 10\")\n",
    "else:\n",
    "    print(\"y is less than 10\")\n"
   ]
  },
  {
   "cell_type": "markdown",
   "metadata": {},
   "source": [
    "- conditional statements, or “if-statements,” affect the sequential flow of control by executing different statements based on the value of a boolean expression\n",
    "- The if/else statement executes a block of code if a specified condition is true. If the condition is false, another block of code can be executed.\n",
    "- we use an if-elif-else block to check the value of the variable y. It first checks if y is greater than 10, then if it's equal to 10, and finally, if neither of these conditions is met, it executes the code inside the else block."
   ]
  },
  {
   "cell_type": "markdown",
   "metadata": {},
   "source": [
    "## Homework:"
   ]
  },
  {
   "cell_type": "markdown",
   "metadata": {},
   "source": [
    "## Hack 1\n",
    "Write two Boolean expressions to check if the average grades of student1, student2, and student3 is at least 85. Write one expression that is false and one that is true.\n",
    "## Hack 2\n",
    "You can't go outside if the temperature is less than 20 **AND** the weather is stormy. Write the Boolean expression for the scenario.\n",
    "Screenshot your work and put it on a Google document. Share the link with Ellie Rozenkrants on Slack by Oct 12 11:59 PM.\n"
   ]
  },
  {
   "cell_type": "code",
   "execution_count": 18,
   "metadata": {},
   "outputs": [
    {
     "name": "stdout",
     "output_type": "stream",
     "text": [
      "True\n",
      "False\n"
     ]
    }
   ],
   "source": [
    "# Hack 1 Expression 1\n",
    "\n",
    "student1 = 85\n",
    "student2 = 85\n",
    "student3 = 85\n",
    "\n",
    "sum = student1 + student2 + student3\n",
    "\n",
    "count = 3\n",
    "\n",
    "result = (sum/count >= 85) or (sum/count < 85)\n",
    "print(result)\n",
    "\n",
    "# Hack 1 Expression 2\n",
    "\n",
    "student1 = 85\n",
    "student2 = 85\n",
    "student3 = 85\n",
    "\n",
    "sum = student1 + student2 + student3\n",
    "\n",
    "count = 3\n",
    "\n",
    "result = (sum/count > 85) or (sum/count < 85)\n",
    "print(result)\n",
    "\n"
   ]
  },
  {
   "cell_type": "code",
   "execution_count": 21,
   "metadata": {},
   "outputs": [
    {
     "name": "stdout",
     "output_type": "stream",
     "text": [
      "Stay indoors.\n"
     ]
    }
   ],
   "source": [
    "# Hack 2\n",
    "\n",
    "temperature = 15\n",
    "is_stormy = True  \n",
    "\n",
    "can_go_outside = (temperature >= 20) and (not is_stormy)\n",
    "\n",
    "if can_go_outside:\n",
    "    print(\"You can go outside.\")\n",
    "else:\n",
    "    print(\"Stay indoors.\")\n"
   ]
  }
 ],
 "metadata": {
  "kernelspec": {
   "display_name": "Python 3",
   "language": "python",
   "name": "python3"
  },
  "language_info": {
   "codemirror_mode": {
    "name": "ipython",
    "version": 3
   },
   "file_extension": ".py",
   "mimetype": "text/x-python",
   "name": "python",
   "nbconvert_exporter": "python",
   "pygments_lexer": "ipython3",
   "version": "3.11.5"
  }
 },
 "nbformat": 4,
 "nbformat_minor": 2
}
