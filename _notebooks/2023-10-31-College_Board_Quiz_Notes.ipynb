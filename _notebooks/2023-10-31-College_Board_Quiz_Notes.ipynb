{
 "cells": [
  {
   "cell_type": "markdown",
   "metadata": {},
   "source": [
    "---\n",
    "comments: true\n",
    "layout: post\n",
    "title: College Board Quiz Notes\n",
    "description: quiz notes and corrections\n",
    "type: hacks\n",
    "courses: { compsci: {week: 12} }\n",
    "---"
   ]
  },
  {
   "cell_type": "markdown",
   "metadata": {},
   "source": [
    "## Key Takeaways and Overall Concepts\n",
    "\n",
    "**Metadata vs Data**\n",
    "- Metadata: specifies information about the original data which assists in identifying the nature and features of that data\n",
    "- Data is a set of raw facts that help identify useful information when they are cleaned, processed, and organized. Metadata, on the other hand, is data about data\n",
    "\n",
    "**Byte Pair Encoding**\n",
    "\n",
    "- Byte pair encoding: a data encoding technique. The encoding algorithm looks for pairs of characters that appear in the string more than once and replaces each instance of that pair with a corresponding character that does not appear in the string. The algorithm saves a list containing the mapping of character pairs to their corresponding replacement characters.\n",
    "\n",
    "**Linear vs. Binary Search**\n",
    "\n",
    "- Linear Search: looks through items until it finds the searched value\n",
    "- Binary Search: finds the middle element of the array"
   ]
  },
  {
   "cell_type": "markdown",
   "metadata": {},
   "source": [
    "## Notes of Concepts I'd Never Heard Of\n",
    "\n",
    "6) Which of the following best describes the role of the Internet Engineering Task Force (IETF)?\n",
    "- Developing standards and protocols for Internet communication\n",
    "\n",
    "7) psuedo code college board format, answer is 3 and 4\n",
    "images/Psuedo-Code.jpg\n",
    "\n",
    "9)  Which of the following best describes one of the benefits of using an iterative and incremental process of program development?\n",
    "- It eliminates the need for programmers to test completed programs.\n",
    "\n",
    "15) Which of the following is a true statement about Internet communication?\n",
    "- Every device connected to the Internet is assigned an Internet protocol (IP) address.\n",
    "\n",
    "47) In public key cryptography, the sender uses the recipient’s public key to encrypt a message. Which of the following is needed to decrypt the message?\n",
    "- The recipient’s private key\n",
    "\n",
    "58) Which of the following are true statements about how the Internet enables crowdsourcing?\n",
    "   -  I. The Internet can provide crowdsourcing participants access to useful tools, information, and professional knowledge.\n",
    "   - II. The speed and reach of the Internet can lower geographic barriers, allowing individuals from different locations to contribute to projects.\n",
    "\n",
    "59) Which of the following are ways in which a programmer can use abstraction to manage the complexity of a program?\n",
    "- Replacing each instance of repeated code with a call to a procedure\n",
    "- Replacing several lines of documentation with a single line of documentation One word, name 1, One word, name 2, One word, name 3, and One word, name 4 with a list of strings\n",
    "called \n",
    "\n",
    "61)  Which of the following statements describe how cloud computing has affected Internet communication?\n",
    "- Cloud computing has helped enhance collaboration.\n",
    "- Cloud computing has introduced new data-security concerns."
   ]
  },
  {
   "cell_type": "markdown",
   "metadata": {},
   "source": [
    "## Corrections\n",
    "\n",
    "No corrections because I used my sources since it was open note.\n",
    "\n",
    "But I don't think it would be bad to review the questions involving the robot moving across a grid, or questions involving graphs:\n",
    "- #10\n",
    "- #11\n",
    "- #21\n",
    "- #26\n",
    "- #31\n",
    "\n",
    "It would also be useful to look over videos on psuedo code and properly research the way College Board wants it."
   ]
  }
 ],
 "metadata": {
  "language_info": {
   "name": "python"
  },
  "orig_nbformat": 4
 },
 "nbformat": 4,
 "nbformat_minor": 2
}
