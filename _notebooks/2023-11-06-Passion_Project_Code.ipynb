{
 "cells": [
  {
   "cell_type": "markdown",
   "metadata": {},
   "source": [
    "---\n",
    "comments: True\n",
    "layout: post\n",
    "title: Passion Project Code\n",
    "description: the code that I contributed to my group's passion project\n",
    "type: hacks\n",
    "courses: {'compsci': {'week': 12}}\n",
    "---"
   ]
  },
  {
   "cell_type": "markdown",
   "metadata": {},
   "source": [
    "##  Genre Information Page\n",
    "\n",
    "<body>\n",
    "    <a class=\"button-link\" href=\"http://127.0.0.1:4100/frontend_shared//2023/10/16/Book_Genres_IPYNB_2_.html\"> Genre Information</a>\n",
    "</body>\n",
    "\n",
    "- just use of markdown\n",
    "\n",
    " "
   ]
  },
  {
   "cell_type": "markdown",
   "metadata": {},
   "source": [
    "## Find Your Next Read Page \n",
    "\n",
    "<body> \n",
    "    <a class=\"button-link\" href=\"http://127.0.0.1:4100/frontend_shared/basics/nextread\"> Find Your Next Read</a>\n",
    "</body>\n",
    "\n",
    "- it shows up below"
   ]
  },
  {
   "cell_type": "code",
   "execution_count": 1,
   "metadata": {},
   "outputs": [
    {
     "data": {
      "text/html": [
       "\n",
       "<h1>Helpful Sites to Find Popular Books</h1>\n",
       "\n",
       "<div>\n",
       "    <p>Barnes and Noble will feature the most popular books in every genre on their website, making it easy for you to start your reading journey on the right foot!</p>\n",
       "    <a href=\"https://www.barnesandnoble.com/b/books/_/N-1fZ29Z8q8\"><button> Barnes and Nobles Top 100 Books </button></a>\n",
       "</div>\n",
       "\n",
       "<div>\n",
       "    <p>The New York Times ranks books on their bestseller list, making it a valuable source for finding a great new read.</p>\n",
       "    <a href=\"https://www.nytimes.com/spotlight/books-to-read\"><button> The New York Times Bestseller List </button></a>\n",
       "</div>\n",
       "\n",
       "<div>\n",
       "    <p>Goodreads is also popular, as it's a platform where thousands of readers can rate books in an online forum; though, you do need an account.</p>\n",
       "    <a href=\"https://www.goodreads.com/\"><button> Goodreads</button></a>\n",
       "</div>\n",
       "\n",
       "# This is also designed to be an informational section for the user. \n",
       "# The user can be directed to websites with credible reputations as far as their book recommendations.\n"
      ],
      "text/plain": [
       "<IPython.core.display.HTML object>"
      ]
     },
     "metadata": {},
     "output_type": "display_data"
    }
   ],
   "source": [
    "%%html\n",
    "\n",
    "<h1>Helpful Sites to Find Popular Books</h1>\n",
    "\n",
    "<div>\n",
    "    <p>Barnes and Noble will feature the most popular books in every genre on their website, making it easy for you to start your reading journey on the right foot!</p>\n",
    "    <a href=\"https://www.barnesandnoble.com/b/books/_/N-1fZ29Z8q8\"><button> Barnes and Nobles Top 100 Books </button></a>\n",
    "</div>\n",
    "\n",
    "<div>\n",
    "    <p>The New York Times ranks books on their bestseller list, making it a valuable source for finding a great new read.</p>\n",
    "    <a href=\"https://www.nytimes.com/spotlight/books-to-read\"><button> The New York Times Bestseller List </button></a>\n",
    "</div>\n",
    "\n",
    "<div>\n",
    "    <p>Goodreads is also popular, as it's a platform where thousands of readers can rate books in an online forum; though, you do need an account.</p>\n",
    "    <a href=\"https://www.goodreads.com/\"><button> Goodreads</button></a>\n",
    "</div>\n",
    "\n",
    "# This is also designed to be an informational section for the user. \n",
    "# The user can be directed to websites with credible reputations as far as their book recommendations."
   ]
  },
  {
   "cell_type": "markdown",
   "metadata": {},
   "source": [
    "### Blind Book Date Page \n",
    " \n",
    "<body> \n",
    "    <a class=\"button-link\" href=\"http://127.0.0.1:4100/frontend_shared/basics/blinddate\">Blind Book Date</a>\n",
    "</body> "
   ]
  },
  {
   "cell_type": "code",
   "execution_count": null,
   "metadata": {},
   "outputs": [],
   "source": [
    "%%html\n",
    "\n",
    "# got the following code from chatgpt but had to make an edit to fix it\n",
    "# it's simple enough that I was able to learn a bit by analyzing!\n",
    "\n",
    "<head>\n",
    "    <title>Random Book Generator</title>\n",
    "    <style>\n",
    "        body {\n",
    "            font-family: Arial, sans-serif;\n",
    "            text-align: center;\n",
    "            background-color: #f2f2f2;\n",
    "            padding: 20px;\n",
    "        }\n",
    "\n",
    "        .book-box {\n",
    "            background-color: #fff;\n",
    "            border-radius: 5px;\n",
    "            padding: 20px;\n",
    "            box-shadow: 0 0 10px rgba(0, 0, 0, 0.2);\n",
    "        }\n",
    "\n",
    "        .new-book {\n",
    "            background-color: #007BFF;\n",
    "            color: #fff;\n",
    "            border: none;\n",
    "            padding: 10px 20px;\n",
    "            cursor: pointer;\n",
    "        }\n",
    "\n",
    "        .new-book:hover {\n",
    "            background-color: #0056b3;\n",
    "        }\n",
    "    </style>\n",
    "</head>\n",
    "\n",
    "<body>\n",
    "    <div id=\"book-box\">\n",
    "        <h1>Random Book Generator</h1>\n",
    "        <p id=\"book\">Click the button to get a random book recommendation.</p>\n",
    "        <button id=\"new-book\">New Book</button>\n",
    "    </div>\n",
    "\n",
    "    # within the <script> element is JavaScript \n",
    "    <script>\n",
    "        const books = [\n",
    "            \"To Kill a Mockingbird by Harper Lee\",\n",
    "            \"1984 by George Orwell\",\n",
    "            \"The Hobbit by J.R.R. Tolkien\",\n",
    "            \"Harry Potter and the Sorcerer's Stone by J.K. Rowling\",\n",
    "            \"The Lord of the Rings by J.R.R. Tolkien\",\n",
    "            \"The Love Hypothesis by Ali Hazelwood\",\n",
    "            \"The Spanish Love Deception by Elena Armas\",\n",
    "            \"The Alchemist by Paulo Coelho\"\n",
    "        ]; \n",
    "      \n",
    "        # these books are from our own list\n",
    "    \n",
    "        const bookElement = document.getElementById(\"book\");\n",
    "        const newBookButton = document.getElementById(\"new-book\");\n",
    "\n",
    "        newBookButton.addEventListener(\"click\", function () {\n",
    "            if (books.length === 0) {\n",
    "                bookElement.textContent = \"No books available.\";\n",
    "            } else {\n",
    "                const randomIndex = Math.floor(Math.random() * books.length);\n",
    "                bookElement.textContent = \"How about reading: \" + books[randomIndex];\n",
    "            }\n",
    "        });\n",
    "    </script>\n",
    "</body>"
   ]
  },
  {
   "cell_type": "markdown",
   "metadata": {},
   "source": [
    "### Database\n",
    "\n",
    "- I helped log most of the 95 books and blurbs in our database (used Supabase)"
   ]
  }
 ],
 "metadata": {
  "kernelspec": {
   "display_name": "Python 3",
   "language": "python",
   "name": "python3"
  },
  "language_info": {
   "codemirror_mode": {
    "name": "ipython",
    "version": 3
   },
   "file_extension": ".py",
   "mimetype": "text/x-python",
   "name": "python",
   "nbconvert_exporter": "python",
   "pygments_lexer": "ipython3",
   "version": "3.11.5"
  },
  "orig_nbformat": 4
 },
 "nbformat": 4,
 "nbformat_minor": 2
}
