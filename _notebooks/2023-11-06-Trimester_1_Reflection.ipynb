{
 "cells": [
  {
   "cell_type": "markdown",
   "metadata": {},
   "source": [
    "---\n",
    "comments: true\n",
    "layout: post\n",
    "title: Trimester 1 Reflection\n",
    "description: memories and learnings, positive accomplishments, things i intend to learn in future trimesters, room for growth\n",
    "type: hacks\n",
    "courses: { compsci: {week: 11} }\n",
    "---"
   ]
  },
  {
   "cell_type": "markdown",
   "metadata": {},
   "source": [
    "## Memories and Learnings\n",
    "\n",
    "- great collaboration with team, learned how to communicate effectively with a larger group versus the pair stage\n",
    "- learned some beginner python and html from the student lessons  "
   ]
  },
  {
   "cell_type": "markdown",
   "metadata": {},
   "source": [
    "## Positive Accomplishments\n",
    "\n",
    "- finished a passion project in 3 weeks"
   ]
  },
  {
   "cell_type": "markdown",
   "metadata": {},
   "source": [
    "## Things I Intend to Learn in Future Trimesters & Room for Growth\n",
    "\n",
    "- I intend to learn how to adapt to a different srum team\n",
    "- I intend to learn more coding knowledge and build off of the things I learned from the student lessons "
   ]
  }
 ],
 "metadata": {
  "language_info": {
   "name": "python"
  },
  "orig_nbformat": 4
 },
 "nbformat": 4,
 "nbformat_minor": 2
}
